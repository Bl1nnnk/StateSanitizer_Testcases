{
 "cells": [
  {
   "cell_type": "markdown",
   "id": "24f5130b",
   "metadata": {},
   "source": [
    "### 给本目录下的testcase cpp文件加上hypercall调用"
   ]
  },
  {
   "cell_type": "code",
   "execution_count": 7,
   "id": "ad826f25",
   "metadata": {},
   "outputs": [],
   "source": [
    "import os\n",
    "\n",
    "# 获取当前目录\n",
    "current_dir = os.getcwd()\n",
    "# 获取当前目录的上一级目录\n",
    "parent_dir = os.path.abspath(os.path.join(current_dir, \"../testcase\"))\n",
    "\n",
    "# 遍历当前目录下的所有文件\n",
    "for file_name in os.listdir(parent_dir):\n",
    "    # 判断是否为.cpp结尾的文件\n",
    "    if file_name.endswith(\".cpp\"):\n",
    "        api_name = file_name[:-4]\n",
    "        try:\n",
    "            # 打开待读取的文件function_name.cpp\n",
    "            with open(f'{parent_dir}/{file_name}', 'r') as file_a, open(f'{current_dir}/{file_name}', 'w') as file_b:\n",
    "\n",
    "                # 在新文件b.cpp开头添加#include \"agent.h\"\n",
    "                file_b.write('#include \"agent.h\"\\n')\n",
    "\n",
    "                # 标记是否已找到main函数\n",
    "                found_main = False\n",
    "                found_main_comma = False\n",
    "                \n",
    "                # 标记是否已找到function_name函数\n",
    "                found_function = False\n",
    "\n",
    "                # 逐行读取文件a.cpp\n",
    "                for code in file_a:\n",
    "\n",
    "                    # 找到function函数开始的第一行\n",
    "                    if not found_function and not code.startswith('//') and not code.startswith('/*') and not code.endswith('*/') and f'{api_name}(' in code:\n",
    "                        file_b.write('    tp_hypercall(TP_FUNC_BEGIN_FUZZ, 0);\\n')\n",
    "                        found_function = True\n",
    "\n",
    "                    # 将当前行写入新文件b.cpp\n",
    "                    file_b.write(code)\n",
    "\n",
    "                    # 找到main函数开始的第一行\n",
    "                    if not found_main and code.strip().startswith('int main('):\n",
    "                        found_main = True\n",
    "                    if found_main and not found_main_comma and code.strip().startswith('{'):\n",
    "                        file_b.write('    tp_hypercall(TP_FUNC_SUBMIT_CR3, 0);\\n')\n",
    "                        found_main_comma = True\n",
    "\n",
    "                # 关闭文件\n",
    "                file_a.close()\n",
    "                file_b.close()\n",
    "        except:\n",
    "            print(\"error\")\n",
    "            continue"
   ]
  },
  {
   "cell_type": "code",
   "execution_count": null,
   "id": "a18fd054",
   "metadata": {},
   "outputs": [],
   "source": []
  }
 ],
 "metadata": {
  "kernelspec": {
   "display_name": "Python 3 (ipykernel)",
   "language": "python",
   "name": "python3"
  },
  "language_info": {
   "codemirror_mode": {
    "name": "ipython",
    "version": 3
   },
   "file_extension": ".py",
   "mimetype": "text/x-python",
   "name": "python",
   "nbconvert_exporter": "python",
   "pygments_lexer": "ipython3",
   "version": "3.9.12"
  }
 },
 "nbformat": 4,
 "nbformat_minor": 5
}
